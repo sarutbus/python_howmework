{
  "cells": [
    {
      "cell_type": "markdown",
      "metadata": {
        "id": "view-in-github",
        "colab_type": "text"
      },
      "source": [
        "<a href=\"https://colab.research.google.com/github/sarutbus/python_howmework/blob/main/HW2_OOP.ipynb\" target=\"_parent\"><img src=\"https://colab.research.google.com/assets/colab-badge.svg\" alt=\"Open In Colab\"/></a>"
      ]
    },
    {
      "cell_type": "code",
      "execution_count": null,
      "metadata": {
        "id": "b0YXDh2PvAtZ"
      },
      "outputs": [],
      "source": [
        "##HW02 - class ATM at least 5 methods ex.attribute ->"
      ]
    },
    {
      "cell_type": "code",
      "execution_count": null,
      "metadata": {
        "id": "ItDzOCo5vUP5"
      },
      "outputs": [],
      "source": [
        "import random\n",
        "class ATM:\n",
        "    def __init__(self,bank_name,account_no,account_name,balance,password):\n",
        "        self.bank_name = bank_name\n",
        "        self.account_no = account_no\n",
        "        self.account_name = account_name\n",
        "        self.balance = balance\n",
        "        self.password = password\n",
        "\n",
        "    def insert(self):\n",
        "        password_input = input(\"Enter your password: \")\n",
        "        wrong = 0\n",
        "        attempt = 3\n",
        "        while True:\n",
        "            if self.password == password_input:\n",
        "                print(\"Success! What do you want to do next?\")\n",
        "                break\n",
        "\n",
        "            else:\n",
        "                wrong = wrong+1\n",
        "                password_input = input(\"Wrong Password!, Please re-enter your password: \")\n",
        "            if wrong == 3:\n",
        "                    print(\"Your card is blocked, Please contact bank.\")\n",
        "                    break\n",
        "        return\n",
        "\n",
        "    def deposit(self):\n",
        "            while True:\n",
        "                user_resp = input(f\"Do you want to deposit to this {self.account_no} account? (Yes/No)\" )\n",
        "                if user_resp.lower() == \"yes\":\n",
        "                        user_deposit = int(input(\"Please enter your amount: \"))\n",
        "                        self.balance = self.balance + user_deposit\n",
        "                        print(f\"Deposit successfully!, Your Balance is: {self.balance}\")\n",
        "                        print(\"Thank you! Hope to see you again :D\")\n",
        "                else:\n",
        "                        print(\"Back to the main menu.\")\n",
        "                break\n",
        "                return\n",
        "\n",
        "    def withdrawn(self):\n",
        "            while True:\n",
        "                user_ans = input(f\"Do you want to deposit to this {self.account_no} account? (Yes/No)\" )\n",
        "                if user_ans.lower() == \"yes\":\n",
        "                        user_withdrawn = int(input(\"Please enter your amount: \"))\n",
        "                        user_confirm = input(f\"Do you want to withdrawn {user_withdrawn} Baht from {self.account_no} (Yes/No)\")\n",
        "\n",
        "                        if user_confirm.lower() == \"yes\":\n",
        "                            self.balance = self.balance - user_withdrawn\n",
        "                            print(f\"withdrawn successfully!, Your Balance is: {self.balance}\")\n",
        "                            print(\"Please collect your cash and don't forget your card\")\n",
        "                else:\n",
        "                        print(\"Back to the main menu.\")\n",
        "                break\n",
        "                return\n",
        "\n",
        "    def transfer(self):\n",
        "            while True:\n",
        "                no_transfer = input(\"Please enter the account number that your want to transfer to: \")\n",
        "                if len(no_transfer) == 9:\n",
        "                    transfer_amount = int(input(\"Please enter the amount that your want to transfer\"))\n",
        "                    transfer_confirm = input(f\"Do you want to transfer {transfer_amount} Baht to {no_transfer} (Yes/No)\")\n",
        "                    if transfer_confirm.lower() == \"yes\":\n",
        "                        self.balance = self.balance - transfer_amount\n",
        "                        print(f\"Transfer successfully!, Your Balance is: {self.balance}\")\n",
        "                        break\n",
        "                    else:\n",
        "                        print(\"Back to the main menu.\")\n",
        "                        break\n",
        "\n",
        "                else:\n",
        "                    quit = input(\"Account number is wrong, You want to re-enter (Yes/No)\")\n",
        "                    if quit.lower() != \"yes\":\n",
        "                        print(\"See you next time\")\n",
        "                        break\n",
        "            return\n",
        "\n",
        "    def otp(self):\n",
        "        random_otp = []\n",
        "        for i in range(0,5):\n",
        "            n = random.randint(0,9)\n",
        "            random_otp.append(n)\n",
        "        user_request = input(\"Please enter your password to request OTP: \")\n",
        "        wrong_otp = 0\n",
        "        attempt_otp = 3\n",
        "        while True:\n",
        "            if self.password == user_request:\n",
        "                print(f\"Success! Your OTP is {random_otp}\")\n",
        "                break\n",
        "\n",
        "            else:\n",
        "                wrong_otp = wrong_otp+1\n",
        "                user_request = input(\"Wrong Password!, Please re-enter your password: \")\n",
        "            if wrong_otp == 3:\n",
        "                    print(\"Your card is blocked, Please contact bank.\")\n",
        "                    break\n",
        "        return\n"
      ]
    },
    {
      "cell_type": "code",
      "execution_count": null,
      "metadata": {
        "id": "ixUfKzmwwBtD"
      },
      "outputs": [],
      "source": [
        "# create a new instance\n",
        "card1 = ATM(\"SCB\",\"123456789\",\"BusJa\",100000,\"112233\")"
      ]
    },
    {
      "cell_type": "code",
      "execution_count": null,
      "metadata": {
        "colab": {
          "base_uri": "https://localhost:8080/"
        },
        "id": "V54NaTGbwX3D",
        "outputId": "0f7b560f-faff-4a17-97ed-64ef0db77d4b"
      },
      "outputs": [
        {
          "output_type": "stream",
          "name": "stdout",
          "text": [
            "Enter your password: 11233\n",
            "Wrong Password!, Please re-enter your password: 112233\n",
            "Success! What do you want to do next?\n"
          ]
        }
      ],
      "source": [
        "card1.insert()"
      ]
    },
    {
      "cell_type": "code",
      "execution_count": null,
      "metadata": {
        "colab": {
          "base_uri": "https://localhost:8080/"
        },
        "id": "cLI2BnVDwaH3",
        "outputId": "b311763e-2c95-4914-fa55-158c0dfbfd41"
      },
      "outputs": [
        {
          "output_type": "stream",
          "name": "stdout",
          "text": [
            "Do you want to deposit to this 123456789 account? (Yes/No)Yes\n",
            "Please enter your amount: 5153\n",
            "Deposit successfully!, Your Balance is: 105153\n",
            "Thank you! Hope to see you again :D\n"
          ]
        }
      ],
      "source": [
        "card1.deposit()"
      ]
    },
    {
      "cell_type": "code",
      "source": [
        "card1.withdrawn()"
      ],
      "metadata": {
        "colab": {
          "base_uri": "https://localhost:8080/"
        },
        "id": "TeJdxrXMUEr1",
        "outputId": "c4fe14ef-2bea-4ebc-d993-2499ab23f724"
      },
      "execution_count": null,
      "outputs": [
        {
          "output_type": "stream",
          "name": "stdout",
          "text": [
            "Do you want to deposit to this 123456789 account? (Yes/No)No\n",
            "Back to the main menu.\n"
          ]
        }
      ]
    },
    {
      "cell_type": "code",
      "source": [
        "card1.transfer()"
      ],
      "metadata": {
        "colab": {
          "base_uri": "https://localhost:8080/"
        },
        "id": "DHuvns56UHxM",
        "outputId": "8a0e6d5c-7fa2-4ea4-a0e7-91c8822dd8da"
      },
      "execution_count": null,
      "outputs": [
        {
          "output_type": "stream",
          "name": "stdout",
          "text": [
            "Please enter the account number that your want to transfer to: 351351123\n",
            "Please enter the amount that your want to transfer850\n",
            "Do you want to transfer 850 Baht to 351351123 (Yes/No)Yes\n",
            "Transfer successfully!, Your Balance is: 104303\n"
          ]
        }
      ]
    },
    {
      "cell_type": "code",
      "source": [
        "card1.otp()"
      ],
      "metadata": {
        "colab": {
          "base_uri": "https://localhost:8080/"
        },
        "id": "bOsZsjMsUNgd",
        "outputId": "19af499b-633d-41ae-c246-8c39a29cb993"
      },
      "execution_count": null,
      "outputs": [
        {
          "output_type": "stream",
          "name": "stdout",
          "text": [
            "Please enter your password to request OTP: 123\n",
            "Wrong Password!, Please re-enter your password: 10\n",
            "Wrong Password!, Please re-enter your password: 112233\n",
            "Success! Your OTP is [0, 4, 0, 6, 7]\n"
          ]
        }
      ]
    }
  ],
  "metadata": {
    "colab": {
      "provenance": [],
      "authorship_tag": "ABX9TyOWiMU2L/CiL4Gr2VjIAu4J",
      "include_colab_link": true
    },
    "kernelspec": {
      "display_name": "Python 3",
      "name": "python3"
    },
    "language_info": {
      "name": "python"
    }
  },
  "nbformat": 4,
  "nbformat_minor": 0
}
