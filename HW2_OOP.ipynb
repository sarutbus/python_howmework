{
  "cells": [
    {
      "cell_type": "markdown",
      "metadata": {
        "id": "view-in-github",
        "colab_type": "text"
      },
      "source": [
        "<a href=\"https://colab.research.google.com/github/sarutbus/python_howmework/blob/main/HW2_OOP.ipynb\" target=\"_parent\"><img src=\"https://colab.research.google.com/assets/colab-badge.svg\" alt=\"Open In Colab\"/></a>"
      ]
    },
    {
      "cell_type": "code",
      "execution_count": null,
      "metadata": {
        "id": "b0YXDh2PvAtZ"
      },
      "outputs": [],
      "source": [
        "##HW02 - class ATM at least 5 methods ex.attribute ->"
      ]
    },
    {
      "cell_type": "code",
      "execution_count": 191,
      "metadata": {
        "id": "ItDzOCo5vUP5"
      },
      "outputs": [],
      "source": [
        "import random\n",
        "class ATM:\n",
        "    def __init__(self,bank_name,account_no,account_name,balance,password):\n",
        "        self.bank_name = bank_name\n",
        "        self.account_no = account_no\n",
        "        self.account_name = account_name\n",
        "        self.balance = balance\n",
        "        self.password = password\n",
        "\n",
        "    def insert(self):\n",
        "        password_input = input(\"Enter your password: \")\n",
        "        wrong = 0\n",
        "        attempt = 3\n",
        "        while True:\n",
        "            if self.password == password_input:\n",
        "                print(\"Success! What do you want to do next?{wrong}\")\n",
        "                break\n",
        "\n",
        "            else:\n",
        "                wrong = wrong+1\n",
        "                password_input = input(\"Wrong Password!, Please re-enter your password: \")\n",
        "            if wrong == 3:\n",
        "                    print(\"Your card is blocked, Please contact bank.\")\n",
        "                    break\n",
        "        return\n",
        "\n",
        "    def deposit(self):\n",
        "            while True:\n",
        "                user_resp = input(f\"Do you want to deposit to this {self.account_no} account? (Yes/No)\" )\n",
        "                if user_resp.lower() == \"yes\":\n",
        "                        user_deposit = int(input(\"Please enter your amount: \"))\n",
        "                        self.balance = self.balance + user_deposit\n",
        "                        print(f\"Deposit successfully!, Your Balance is: {self.balance}\")\n",
        "                        print(\"Thank you! Hope to see you again :D\")\n",
        "                else:\n",
        "                        print(\"Back to the main menu.\")\n",
        "                break\n",
        "                return\n",
        "\n",
        "    def withdrawn(self):\n",
        "            while True:\n",
        "                user_ans = input(f\"Do you want to deposit to this {self.account_no} account? (Yes/No)\" )\n",
        "                if user_ans.lower() == \"yes\":\n",
        "                        user_withdrawn = int(input(\"Please enter your amount: \"))\n",
        "                        user_confirm = input(f\"Do you want to withdrawn {user_withdrawn} Baht from {self.account_no} (Yes/No)\")\n",
        "\n",
        "                        if user_confirm.lower() == \"yes\":\n",
        "                            self.balance = self.balance - user_withdrawn\n",
        "                            print(f\"withdrawn successfully!, Your Balance is: {self.balance}\")\n",
        "                            print(\"Please collect your cash and don't forget your card\")\n",
        "                else:\n",
        "                        print(\"Back to the main menu.\")\n",
        "                break\n",
        "                return\n",
        "\n",
        "    def transfer(self):\n",
        "            while True:\n",
        "                no_transfer = input(\"Please enter the account number that your want to transfer to: \")\n",
        "                if len(no_transfer) == 9:\n",
        "                    transfer_amount = int(input(\"Please enter the amount that your want to transfer\"))\n",
        "                    transfer_confirm = input(f\"Do you want to transfer {transfer_amount} Baht to {no_transfer} (Yes/No)\")\n",
        "                    if transfer_confirm.lower() == \"yes\":\n",
        "                        self.balance = self.balance - transfer_amount\n",
        "                        print(f\"Transfer successfully!, Your Balance is: {self.balance}\")\n",
        "                        break\n",
        "                    else:\n",
        "                        print(\"Back to the main menu.\")\n",
        "                        break\n",
        "\n",
        "                else:\n",
        "                    quit = input(\"Account number is wrong, You want to re-enter (Yes/No)\")\n",
        "                    if quit.lower() == \"yes\":\n",
        "                        no_transfer = input(\"Please enter the account number that your want to transfer to: \")\n",
        "                        if len(no_transfer) == 9:\n",
        "                            transfer_amount = int(input(\"Please enter the amount that your want to transfer\"))\n",
        "                            transfer_confirm = input(f\"Do you want to transfer {transfer_amount} Baht to {no_transfer} (Yes/No)\")\n",
        "                            if transfer_confirm.lower() == \"yes\":\n",
        "                                self.balance = self.balance - transfer_amount\n",
        "                                print(f\"Transfer successfully!, Your Balance is: {self.balance}\")\n",
        "                        break\n",
        "                    else: print(\"See you next time\")\n",
        "                    break\n",
        "            return\n",
        "\n",
        "    def otp(self):\n",
        "        random_otp = []\n",
        "        for i in range(0,5):\n",
        "            n = random.randint(0,9)\n",
        "            random_otp.append(n)\n",
        "        user_request = input(\"Please enter your password to request OTP: \")\n",
        "        wrong = 0\n",
        "        attempt = 3\n",
        "        while True:\n",
        "            if self.password == user_request:\n",
        "                print(f\"Success! Your OTP is {random_otp}\")\n",
        "                break\n",
        "\n",
        "            else:\n",
        "                wrong = wrong+1\n",
        "                password_input = input(\"Wrong Password!, Please re-enter your password: \")\n",
        "            if wrong == 3:\n",
        "                    print(\"Your card is blocked, Please contact bank.\")\n",
        "                    break\n",
        "        return\n",
        "\n",
        "\n",
        "\n",
        "\n",
        "\n",
        "\n",
        "\n",
        "\n",
        "\n",
        "\n",
        "\n",
        "\n"
      ]
    },
    {
      "cell_type": "code",
      "execution_count": 193,
      "metadata": {
        "id": "ixUfKzmwwBtD"
      },
      "outputs": [],
      "source": [
        "# create a new instance\n",
        "card1 = ATM(\"SCB\",\"123456789\",\"BusJa\",100000,\"112233\")"
      ]
    },
    {
      "cell_type": "code",
      "execution_count": 194,
      "metadata": {
        "colab": {
          "base_uri": "https://localhost:8080/"
        },
        "id": "V54NaTGbwX3D",
        "outputId": "1b7ce0db-c05a-4ba8-957f-e8d5733ca28e"
      },
      "outputs": [
        {
          "output_type": "stream",
          "name": "stdout",
          "text": [
            "Please enter your password to request OTP: 112233\n",
            "Success! Your OTP is [3, 3, 3, 0, 0]\n"
          ]
        }
      ],
      "source": [
        "card1.otp()"
      ]
    },
    {
      "cell_type": "code",
      "execution_count": 186,
      "metadata": {
        "id": "cLI2BnVDwaH3",
        "colab": {
          "base_uri": "https://localhost:8080/"
        },
        "outputId": "ecd9af52-c31a-4e9b-af88-51fd093b26d5"
      },
      "outputs": [
        {
          "output_type": "stream",
          "name": "stdout",
          "text": [
            "4\n"
          ]
        }
      ],
      "source": [
        "import random\n",
        "\n",
        "print(random.randint(0,9))"
      ]
    },
    {
      "cell_type": "code",
      "source": [],
      "metadata": {
        "id": "ETJR3DI-OMN9"
      },
      "execution_count": null,
      "outputs": []
    }
  ],
  "metadata": {
    "colab": {
      "provenance": [],
      "authorship_tag": "ABX9TyNRIZurvGT81UHY+nMSRK/6",
      "include_colab_link": true
    },
    "kernelspec": {
      "display_name": "Python 3",
      "name": "python3"
    },
    "language_info": {
      "name": "python"
    }
  },
  "nbformat": 4,
  "nbformat_minor": 0
}