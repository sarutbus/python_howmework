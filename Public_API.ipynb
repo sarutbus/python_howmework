{
  "nbformat": 4,
  "nbformat_minor": 0,
  "metadata": {
    "colab": {
      "provenance": [],
      "authorship_tag": "ABX9TyOi+DWCdDbX86ZrBiSsajCQ",
      "include_colab_link": true
    },
    "kernelspec": {
      "name": "python3",
      "display_name": "Python 3"
    },
    "language_info": {
      "name": "python"
    }
  },
  "cells": [
    {
      "cell_type": "markdown",
      "metadata": {
        "id": "view-in-github",
        "colab_type": "text"
      },
      "source": [
        "<a href=\"https://colab.research.google.com/github/sarutbus/python_howmework/blob/main/HW03_Public_API.ipynb\" target=\"_parent\"><img src=\"https://colab.research.google.com/assets/colab-badge.svg\" alt=\"Open In Colab\"/></a>"
      ]
    },
    {
      "cell_type": "code",
      "execution_count": null,
      "metadata": {
        "colab": {
          "base_uri": "https://localhost:8080/"
        },
        "id": "PIdO7mq0vzoH",
        "outputId": "ae213295-7d45-4e6d-ab64-20d19f6a0711"
      },
      "outputs": [
        {
          "output_type": "execute_result",
          "data": {
            "text/plain": [
              "200"
            ]
          },
          "metadata": {},
          "execution_count": 15
        }
      ],
      "source": [
        "#import\n",
        "\n",
        "import requests\n",
        "\n",
        "url = \"https://www.cheapshark.com/api/1.0/deals?storeID=1&upperPrice=15\"\n",
        "resp = requests.get(url)\n",
        "\n",
        "#check status code\n",
        "resp.status_code\n"
      ]
    },
    {
      "cell_type": "code",
      "source": [
        "import time\n",
        "games = []\n",
        "\n",
        "for i in range(10):\n",
        "    url = f\"https://www.cheapshark.com/api/1.0/deals?storeID=1&upperPrice={i+1}\"\n",
        "    if resp.status_code == 200:\n",
        "        json_data = resp.json()\n",
        "        games.append(\n",
        "        (json_data[0][\"title\"],\n",
        "        json_data[0][\"salePrice\"],\n",
        "        json_data[0][\"steamRatingPercent\"])\n",
        "    )\n",
        "    time.sleep(1)\n"
      ],
      "metadata": {
        "id": "c48-Hx9ezD7B"
      },
      "execution_count": null,
      "outputs": []
    },
    {
      "cell_type": "code",
      "source": [
        "print(games)"
      ],
      "metadata": {
        "colab": {
          "base_uri": "https://localhost:8080/"
        },
        "id": "2fBQnwOY1htk",
        "outputId": "76d056ec-1bed-4b91-8654-3b7e60c74e51"
      },
      "execution_count": null,
      "outputs": [
        {
          "output_type": "stream",
          "name": "stdout",
          "text": [
            "[('Sid Meiers Civilization VI', '5.99', '85'), ('Sid Meiers Civilization VI', '5.99', '85'), ('Sid Meiers Civilization VI', '5.99', '85'), ('Sid Meiers Civilization VI', '5.99', '85'), ('Sid Meiers Civilization VI', '5.99', '85'), ('Sid Meiers Civilization VI', '5.99', '85'), ('Sid Meiers Civilization VI', '5.99', '85'), ('Sid Meiers Civilization VI', '5.99', '85'), ('Sid Meiers Civilization VI', '5.99', '85'), ('Sid Meiers Civilization VI', '5.99', '85')]\n"
          ]
        }
      ]
    },
    {
      "cell_type": "code",
      "source": [],
      "metadata": {
        "id": "FmZcBCBH1jpg"
      },
      "execution_count": null,
      "outputs": []
    }
  ]
}
