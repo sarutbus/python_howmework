{
  "nbformat": 4,
  "nbformat_minor": 0,
  "metadata": {
    "colab": {
      "provenance": [],
      "authorship_tag": "ABX9TyNgeYjFZ60WNviBddrjqnSQ",
      "include_colab_link": true
    },
    "kernelspec": {
      "name": "python3",
      "display_name": "Python 3"
    },
    "language_info": {
      "name": "python"
    }
  },
  "cells": [
    {
      "cell_type": "markdown",
      "metadata": {
        "id": "view-in-github",
        "colab_type": "text"
      },
      "source": [
        "<a href=\"https://colab.research.google.com/github/sarutbus/python_howmework/blob/main/HW01_PYC_Game.ipynb\" target=\"_parent\"><img src=\"https://colab.research.google.com/assets/colab-badge.svg\" alt=\"Open In Colab\"/></a>"
      ]
    },
    {
      "cell_type": "code",
      "source": [
        "import random\n",
        "\n",
        "computer_score = 0\n",
        "player_score = 0\n",
        "\n",
        "while True:\n",
        "    player_action = input(\"Choose Your Figther! (Rock,Paper,Scissors) or Quit: \")\n",
        "    computer_choice = [\"rock\",\"paper\",\"scissors\"]\n",
        "    computer_action = random.choice(computer_choice)\n",
        "    if player_action.lower() == computer_action:\n",
        "        print(f\"Both players Choose {player_action} it's a tie!\")\n",
        "\n",
        "\n",
        "    elif player_action.lower() == \"rock\":\n",
        "        if computer_action == \"scissors\":\n",
        "            print(f\"You Choose {player_action} and Computer Chooses {computer_action}\")\n",
        "            print(\"You Win!\")\n",
        "            player_score = player_score +1\n",
        "        else:\n",
        "            print(f\"You Choose {player_action} and Computer Chooses {computer_action}\")\n",
        "            print(\"You Lose!\")\n",
        "            computer_score = computer_score +1\n",
        "\n",
        "    elif player_action.lower() == \"paper\":\n",
        "        if computer_action == \"rock\":\n",
        "            print(f\"You Choose {player_action} and Computer Chooses {computer_action}\")\n",
        "            print(\"You Win!\")\n",
        "            player_score = player_score +1\n",
        "        else:\n",
        "            print(f\"You Choose {player_action} and Computer Chooses {computer_action}\")\n",
        "            print(\"You Lose!\")\n",
        "            computer_score = computer_score +1\n",
        "\n",
        "    elif player_action.lower() == \"scissors\":\n",
        "        if computer_action == \"paper\":\n",
        "            print(f\"You Choose {player_action} and Computer Chooses {computer_action}\")\n",
        "            print(\"You Win!\")\n",
        "            player_score = player_score +1\n",
        "        else:\n",
        "            print(f\"You Choose {player_action} and Computer Chooses {computer_action}\")\n",
        "            print(\"You Lose!\")\n",
        "            computer_score = computer_score +1\n",
        "    else:\n",
        "        if player_action.lower() == \"quit\":\n",
        "            print(\"See you Next Time\")\n",
        "            break\n",
        "\n",
        "    if player_score == 5:\n",
        "        print(\"Congratz! You're The WINNER\")\n",
        "        break\n",
        "    elif computer_score == 5:\n",
        "        print(\"Oh! Computer is The WINNER, Please Try Again!\")\n",
        "        play_more = input(\"Do you want to play again? (Yes/No)\")\n",
        "        if play_more.lower() != \"yes\":\n",
        "            print(\"See You Next Time\")\n",
        "            break\n",
        "\n",
        "\n",
        "\n",
        "\n"
      ],
      "metadata": {
        "colab": {
          "base_uri": "https://localhost:8080/"
        },
        "id": "Ha_5aaPcEvJA",
        "outputId": "877cefaa-64ce-4e36-9db5-6b58810ada8b"
      },
      "execution_count": 29,
      "outputs": [
        {
          "output_type": "stream",
          "name": "stdout",
          "text": [
            "Choose Your Figther! (Rock,Paper,Scissors) or Quit: rock\n",
            "You Choose rock and Computer Chooses paper\n",
            "You Lose!\n",
            "Choose Your Figther! (Rock,Paper,Scissors) or Quit: rock\n",
            "Both players Choose rock it's a tie!\n",
            "Choose Your Figther! (Rock,Paper,Scissors) or Quit: rock\n",
            "You Choose rock and Computer Chooses paper\n",
            "You Lose!\n",
            "Choose Your Figther! (Rock,Paper,Scissors) or Quit: rock\n",
            "You Choose rock and Computer Chooses scissors\n",
            "You Win!\n",
            "Choose Your Figther! (Rock,Paper,Scissors) or Quit: rock\n",
            "Both players Choose rock it's a tie!\n",
            "Choose Your Figther! (Rock,Paper,Scissors) or Quit: rock\n",
            "You Choose rock and Computer Chooses paper\n",
            "You Lose!\n",
            "Choose Your Figther! (Rock,Paper,Scissors) or Quit: rock\n",
            "You Choose rock and Computer Chooses scissors\n",
            "You Win!\n",
            "Choose Your Figther! (Rock,Paper,Scissors) or Quit: rock\n",
            "You Choose rock and Computer Chooses paper\n",
            "You Lose!\n",
            "Choose Your Figther! (Rock,Paper,Scissors) or Quit: rock\n",
            "You Choose rock and Computer Chooses scissors\n",
            "You Win!\n",
            "Choose Your Figther! (Rock,Paper,Scissors) or Quit: rock\n",
            "You Choose rock and Computer Chooses scissors\n",
            "You Win!\n",
            "Choose Your Figther! (Rock,Paper,Scissors) or Quit: rock\n",
            "Both players Choose rock it's a tie!\n",
            "Choose Your Figther! (Rock,Paper,Scissors) or Quit: rock\n",
            "Both players Choose rock it's a tie!\n",
            "Choose Your Figther! (Rock,Paper,Scissors) or Quit: rock\n",
            "You Choose rock and Computer Chooses paper\n",
            "You Lose!\n",
            "Oh! Computer is The WINNER, Please Try Again!\n",
            "Do you want to play again? (Yes/No)no\n",
            "See You Next Time\n"
          ]
        }
      ]
    },
    {
      "cell_type": "code",
      "source": [],
      "metadata": {
        "id": "A7E3qx_qGMZ-"
      },
      "execution_count": null,
      "outputs": []
    }
  ]
}